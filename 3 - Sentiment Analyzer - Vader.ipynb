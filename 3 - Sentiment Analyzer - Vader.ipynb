{
 "cells": [
  {
   "cell_type": "code",
   "execution_count": 1,
   "metadata": {},
   "outputs": [],
   "source": [
    "from IPython.core.interactiveshell import InteractiveShell\n",
    "InteractiveShell.ast_node_interactivity = \"all\"\n",
    "import warnings\n",
    "warnings.filterwarnings('ignore')\n",
    "RS = sum(list(map(ord, 'Dale Boca')))\n",
    "\n",
    "import pandas as pd\n",
    "pd.option_context('display.max_rows', None, 'display.max_columns', None)\n",
    "pd.set_option('display.max_colwidth', -1)\n",
    "\n",
    "import numpy as np\n",
    "import os;"
   ]
  },
  {
   "cell_type": "code",
   "execution_count": 2,
   "metadata": {},
   "outputs": [],
   "source": [
    "import nltk\n",
    "from nltk.tokenize import sent_tokenize, word_tokenize\n",
    "\n",
    "from sklearn.feature_extraction import text\n",
    "extra = []\n",
    "extra = [e.lower() for e in extra]\n",
    "stop_words = text.ENGLISH_STOP_WORDS.union(extra)\n",
    "\n",
    "def preprocessing_text(texto):\n",
    "    # texto es un conjunto de 1 o más sentences. Lo divido por sentences.\n",
    "    sent_texto = nltk.sent_tokenize(texto) \n",
    "    # cada sentence de texto, la tokenizo en palabras y le saco las palabras de menos de 3 letras\n",
    "    # y las stop_words\n",
    "    sent_texto_filtered = []\n",
    "    for sent in sent_texto:\n",
    "        words_sent = word_tokenize(sent)\n",
    "        #words_sent_filtered = [w for w in words_sent if not w in stop_words]\n",
    "        words_sent_filtered = [w.lower() for w in words_sent if (len(w) >= 3) and (w.lower() not in stop_words)]\n",
    "        # reconstruyo la sentence con las words filtradas\n",
    "        sent_texto_filtered.append(' '.join(words_sent_filtered))\n",
    "    return sent_texto_filtered "
   ]
  },
  {
   "cell_type": "code",
   "execution_count": 3,
   "metadata": {},
   "outputs": [
    {
     "name": "stdout",
     "output_type": "stream",
     "text": [
      "[nltk_data] Downloading package vader_lexicon to\n",
      "[nltk_data]     /Users/arturo.torrestey/nltk_data...\n",
      "[nltk_data]   Package vader_lexicon is already up-to-date!\n"
     ]
    },
    {
     "data": {
      "text/plain": [
       "True"
      ]
     },
     "execution_count": 3,
     "metadata": {},
     "output_type": "execute_result"
    }
   ],
   "source": [
    "from nltk.sentiment.vader import SentimentIntensityAnalyzer\n",
    "nltk.download('vader_lexicon')"
   ]
  },
  {
   "cell_type": "code",
   "execution_count": 4,
   "metadata": {},
   "outputs": [],
   "source": [
    "def vader_sent_analyzer(texto):\n",
    "    # inicializo el SentimentIntensityAnalyzer\n",
    "    sid = SentimentIntensityAnalyzer()\n",
    "    # calculo el compound ratio promedio de la sentences que se encuentran en texto\n",
    "    compounds = []\n",
    "    for sent in texto:\n",
    "        ss = sid.polarity_scores(sent)['compound']\n",
    "        compounds.append(ss)\n",
    "    \n",
    "    return np.mean(compounds)  "
   ]
  },
  {
   "cell_type": "code",
   "execution_count": 50,
   "metadata": {},
   "outputs": [],
   "source": [
    "def apply_vader(lim_pos=0.15, lim_neg=-0.15, train=True):\n",
    "    '''\n",
    "    input = archivo de textos con sentences de tweets y reddit\n",
    "    output = dataframe con cantidad de textos pos, neg y neutros agrupados por fecha\n",
    "    '''\n",
    "    \n",
    "    # armo el nombre del archivo a leer de los parametros\n",
    "    dir_name = 'data'    \n",
    "    file_name = 'reddit+twitter_train_filter.csv' if train else '''reddit+twitter_test_filter.csv'''\n",
    "          \n",
    "    filename  = os.path.join(dir_name, file_name)\n",
    "    \n",
    "    # leo archivo y le cambio los nombres a las columnas\n",
    "    tweets = pd.read_csv(filename, usecols=[1,2])\n",
    "        \n",
    "    # preproceso los datos de la columna texto y defino el vader compound ratio\n",
    "    tweets['v_compound'] = [vader_sent_analyzer(preprocessing_text(str(x))) for x in tweets.text]\n",
    "       \n",
    "    # conteo de resultados en base a los límites predefinidos\n",
    "    tweets.loc[tweets.v_compound >= lim_pos, 'pos'] = 1\n",
    "    tweets.loc[tweets.v_compound <= lim_neg, 'neg'] = 1\n",
    "    tweets.loc[((tweets.v_compound < lim_pos) & (tweets.v_compound > lim_neg)), 'neu'] = 1\n",
    "    \n",
    "    # fillna con 0\n",
    "    tweets[['pos', 'neg', 'neu']] = tweets[['pos', 'neg', 'neu']].fillna(value=0)\n",
    "    \n",
    "    # selecciono las columnas para trabajar\n",
    "    tweets = tweets.loc[:, ['date', 'pos', 'neg', 'neu']]\n",
    "    \n",
    "    # agrupo tweets por fecha, sumarizando la cantidad de pos, neg y neutros\n",
    "    grouped = tweets.groupby('date').sum()\n",
    "    \n",
    "    # retorno df con resultados\n",
    "    return grouped"
   ]
  },
  {
   "cell_type": "code",
   "execution_count": 51,
   "metadata": {},
   "outputs": [],
   "source": [
    "sent_train = apply_vader(train=True)\n",
    "sent_test  = apply_vader(train=False)"
   ]
  },
  {
   "cell_type": "markdown",
   "metadata": {},
   "source": [
    "### Armado de datasets finales"
   ]
  },
  {
   "cell_type": "code",
   "execution_count": 54,
   "metadata": {},
   "outputs": [],
   "source": [
    "prices_train = pd.read_csv('data/prices_train.csv', index_col=0)\n",
    "prices_test = pd.read_csv('data/prices_test.csv', index_col=0)"
   ]
  },
  {
   "cell_type": "code",
   "execution_count": 55,
   "metadata": {},
   "outputs": [],
   "source": [
    "trainset = pd.merge(sent_train, prices_train, on='date', how='left')\n",
    "testset = pd.merge(sent_test, prices_test, on='date', how='left')"
   ]
  },
  {
   "cell_type": "code",
   "execution_count": 62,
   "metadata": {},
   "outputs": [],
   "source": [
    "trainset.to_csv('data/trainset_va.csv')\n",
    "testset.to_csv('data/testset_va.csv')"
   ]
  },
  {
   "cell_type": "code",
   "execution_count": null,
   "metadata": {},
   "outputs": [],
   "source": []
  }
 ],
 "metadata": {
  "kernelspec": {
   "display_name": "Python 3",
   "language": "python",
   "name": "python3"
  },
  "language_info": {
   "codemirror_mode": {
    "name": "ipython",
    "version": 3
   },
   "file_extension": ".py",
   "mimetype": "text/x-python",
   "name": "python",
   "nbconvert_exporter": "python",
   "pygments_lexer": "ipython3",
   "version": "3.6.6"
  }
 },
 "nbformat": 4,
 "nbformat_minor": 2
}
