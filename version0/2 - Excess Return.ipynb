{
 "cells": [
  {
   "cell_type": "code",
   "execution_count": 1,
   "metadata": {},
   "outputs": [],
   "source": [
    "import pandas as pd\n",
    "import numpy as np"
   ]
  },
  {
   "cell_type": "code",
   "execution_count": 2,
   "metadata": {},
   "outputs": [],
   "source": [
    "import os\n",
    "def excess_return(stock, indice, train=True):\n",
    "    '''\n",
    "    input = archivo con informacion de precios con fecha en txt\n",
    "    output = dataframe con la fecha (formato datetime) y cierre\n",
    "    '''\n",
    "    # armo el nombre del archivo a leer de los parametros\n",
    "    dir_name = '../data/original'\n",
    "    \n",
    "    if train:\n",
    "        stock_name  = stock  + '_train.txt'\n",
    "        indice_name = indice + '_train.txt'\n",
    "    else:\n",
    "        stock_name  = stock  + '_test.txt'\n",
    "        indice_name = indice + '_test.txt'\n",
    "            \n",
    "    stockname  = os.path.join(dir_name, stock_name)\n",
    "    indicename = os.path.join(dir_name, indice_name)\n",
    "    \n",
    "    # leo los archivos y le cambio los nombres a las columnas\n",
    "    stk = pd.read_csv(stockname, usecols=['Date', 'Adj Close'])\n",
    "    ind = pd.read_csv(indicename,usecols=['Date', 'Adj Close'])\n",
    "    stk.columns = ['date', stock]\n",
    "    ind.columns = ['date', indice]\n",
    "    \n",
    "    # mergeo los df con los precios de la acción y el índice\n",
    "    data = pd.merge(stk, ind, on='date')\n",
    "    \n",
    "    # paso la fecha a formato datetime\n",
    "    data['date'] = pd.to_datetime(data.date)\n",
    "    \n",
    "    # armo un df con el total de los días en el rango de fechas de los archivos provistos\n",
    "    dias_totales = pd.DataFrame(pd.date_range(data.date.min(), data.date.max(), freq='D'), columns=['date'])\n",
    "    \n",
    "    # mergeo para buscar los días sin valor en precios (fin de semana y feriados)\n",
    "    data = pd.merge(dias_totales, data, on='date', how='left')\n",
    "    \n",
    "    # interpolo los nans con función cuadrática\n",
    "    data = data.interpolate(method='quadratic')\n",
    "    \n",
    "    # calculo el retorno logarítmico\n",
    "    data['log_ret NFLX'] = np.log(data.NFLX / data.NFLX.shift(1))\n",
    "    data['log_ret NDX'] = np.log(data.NDX / data.NDX.shift(1))\n",
    "    data['exc_ret'] = (data['log_ret NFLX'] - data['log_ret NDX']) > 0\n",
    "    \n",
    "    # armo el df para retornar con la fecha y el excess return de la acción eliminando\n",
    "    # la primera observación (sin retorno calculado)\n",
    "    data = data.loc[1: , ['date', 'exc_ret']]\n",
    "\n",
    "    return data"
   ]
  },
  {
   "cell_type": "code",
   "execution_count": 3,
   "metadata": {},
   "outputs": [],
   "source": [
    "prices_train = excess_return(stock='NFLX', indice='NDX', train=True)\n",
    "prices_test  = excess_return(stock='NFLX', indice='NDX', train=False)"
   ]
  },
  {
   "cell_type": "code",
   "execution_count": 4,
   "metadata": {},
   "outputs": [],
   "source": [
    "prices_train.to_csv('../data/prices_train.csv')\n",
    "prices_test.to_csv('../data/prices_test.csv')"
   ]
  }
 ],
 "metadata": {
  "kernelspec": {
   "display_name": "Python 3",
   "language": "python",
   "name": "python3"
  },
  "language_info": {
   "codemirror_mode": {
    "name": "ipython",
    "version": 3
   },
   "file_extension": ".py",
   "mimetype": "text/x-python",
   "name": "python",
   "nbconvert_exporter": "python",
   "pygments_lexer": "ipython3",
   "version": "3.6.5"
  }
 },
 "nbformat": 4,
 "nbformat_minor": 2
}
