{
 "cells": [
  {
   "cell_type": "code",
   "execution_count": 11,
   "metadata": {},
   "outputs": [],
   "source": [
    "from IPython.core.interactiveshell import InteractiveShell\n",
    "InteractiveShell.ast_node_interactivity = \"all\"\n",
    "import warnings\n",
    "warnings.filterwarnings('ignore')\n",
    "RS = sum(list(map(ord, 'Dale Boca')))\n",
    "\n",
    "import pandas as pd\n",
    "pd.option_context('display.max_rows', None, 'display.max_columns', None)\n",
    "pd.set_option('display.max_colwidth', -1)\n",
    "\n",
    "import numpy as np\n",
    "import os;"
   ]
  },
  {
   "cell_type": "code",
   "execution_count": 12,
   "metadata": {},
   "outputs": [],
   "source": [
    "import nltk\n",
    "from nltk.tokenize import sent_tokenize, word_tokenize\n",
    "\n",
    "from sklearn.feature_extraction import text\n",
    "extra = []\n",
    "extra = [e.lower() for e in extra]\n",
    "stop_words = text.ENGLISH_STOP_WORDS.union(extra)\n",
    "\n",
    "def preprocessing_text(texto):\n",
    "    # texto es un conjunto de 1 o más sentences. Lo divido por sentences.\n",
    "    sent_texto = nltk.sent_tokenize(texto) \n",
    "    # cada sentence de texto, la tokenizo en palabras y le saco las palabras de menos de 3 letras\n",
    "    # y las stop_words\n",
    "    sent_texto_filtered = []\n",
    "    for sent in sent_texto:\n",
    "        words_sent = word_tokenize(sent)\n",
    "        #words_sent_filtered = [w for w in words_sent if not w in stop_words]\n",
    "        words_sent_filtered = [w.lower() for w in words_sent if (len(w) >= 3) and (w.lower() not in stop_words)]\n",
    "        # reconstruyo la sentence con las words filtradas\n",
    "        sent_texto_filtered.append(' '.join(words_sent_filtered))\n",
    "    return sent_texto_filtered "
   ]
  },
  {
   "cell_type": "code",
   "execution_count": 13,
   "metadata": {},
   "outputs": [
    {
     "name": "stdout",
     "output_type": "stream",
     "text": [
      "[nltk_data] Downloading package vader_lexicon to\n",
      "[nltk_data]     /Users/arturo.torrestey/nltk_data...\n",
      "[nltk_data]   Package vader_lexicon is already up-to-date!\n"
     ]
    },
    {
     "data": {
      "text/plain": [
       "True"
      ]
     },
     "execution_count": 13,
     "metadata": {},
     "output_type": "execute_result"
    }
   ],
   "source": [
    "from nltk.sentiment.vader import SentimentIntensityAnalyzer\n",
    "nltk.download('vader_lexicon')"
   ]
  },
  {
   "cell_type": "code",
   "execution_count": 14,
   "metadata": {},
   "outputs": [],
   "source": [
    "# inicializo el SentimentIntensityAnalyzer\n",
    "sid = SentimentIntensityAnalyzer()\n",
    "\n",
    "def vader_sent_analyzer(texto):\n",
    "    # calculo el compound ratio promedio de la sentences que se encuentran en texto\n",
    "    # texto viene como una lista de sentences\n",
    "    pos_val = []\n",
    "    neg_val = []\n",
    "    neu_val = []\n",
    "    for sent in texto:\n",
    "        ss = sid.polarity_scores(sent)\n",
    "        pos_val.append(ss['pos'])\n",
    "        neg_val.append(ss['neg'])\n",
    "        neu_val.append(ss['neu'])\n",
    "        \n",
    "    return (np.mean(pos_val), np.mean(neg_val), np.mean(neu_val))"
   ]
  },
  {
   "cell_type": "code",
   "execution_count": 17,
   "metadata": {},
   "outputs": [],
   "source": [
    "def apply_vader(train=True):\n",
    "    '''\n",
    "    input = archivo de textos con sentences de tweets y reddit\n",
    "    output = dataframe con cantidad de textos pos, neg y neutros agrupados por fecha\n",
    "    '''\n",
    "    \n",
    "    # armo el nombre del archivo a leer de los parametros\n",
    "    dir_name = '../data'    \n",
    "    #file_name = 'reddit+twitter_train_filter.csv' if train else 'reddit+twitter_test_filter.csv'\n",
    "    file_name = 'tweets_train.csv' if train else 'tweets_test.csv'\n",
    "          \n",
    "    filename  = os.path.join(dir_name, file_name)\n",
    "    \n",
    "    # leo archivo y le cambio los nombres a las columnas\n",
    "    tweets = pd.read_csv(filename, usecols=[1,2])\n",
    "        \n",
    "    # preproceso los datos de la columna texto y defino el vader compound ratio\n",
    "    tweets['tuplas'] = [vader_sent_analyzer(preprocessing_text(str(x))) for x in tweets.text]\n",
    "    \n",
    "    tweets['pos'] = tweets['tuplas'].apply(lambda x: x[0])\n",
    "    tweets['neg'] = tweets['tuplas'].apply(lambda x: x[1])\n",
    "    tweets['neu'] = tweets['tuplas'].apply(lambda x: x[2])\n",
    "    \n",
    "    # selecciono las columnas para trabajar\n",
    "    tweets = tweets.loc[:, ['date', 'pos', 'neg', 'neu']]\n",
    "    \n",
    "    # agrupo tweets por fecha, sumarizando la cantidad de pos, neg y neutros\n",
    "    grouped = tweets.groupby('date').mean()\n",
    "    \n",
    "    # retorno df con resultados\n",
    "    return grouped"
   ]
  },
  {
   "cell_type": "code",
   "execution_count": 18,
   "metadata": {},
   "outputs": [],
   "source": [
    "sent_train = apply_vader(train=True)\n",
    "sent_test  = apply_vader(train=False)"
   ]
  },
  {
   "cell_type": "markdown",
   "metadata": {},
   "source": [
    "### Armado de datasets finales"
   ]
  },
  {
   "cell_type": "code",
   "execution_count": 19,
   "metadata": {},
   "outputs": [],
   "source": [
    "prices_train = pd.read_csv('../data/prices_train.csv', index_col=0)\n",
    "prices_test = pd.read_csv('../data/prices_test.csv', index_col=0)"
   ]
  },
  {
   "cell_type": "code",
   "execution_count": 20,
   "metadata": {},
   "outputs": [],
   "source": [
    "trainset = pd.merge(sent_train, prices_train, on='date', how='left')\n",
    "testset = pd.merge(sent_test, prices_test, on='date', how='left')"
   ]
  },
  {
   "cell_type": "code",
   "execution_count": 21,
   "metadata": {},
   "outputs": [],
   "source": [
    "trainset.to_csv('../data/trainset_va.csv')\n",
    "testset.to_csv('../data/testset_va.csv')"
   ]
  },
  {
   "cell_type": "code",
   "execution_count": null,
   "metadata": {},
   "outputs": [],
   "source": []
  }
 ],
 "metadata": {
  "kernelspec": {
   "display_name": "Python 3",
   "language": "python",
   "name": "python3"
  },
  "language_info": {
   "codemirror_mode": {
    "name": "ipython",
    "version": 3
   },
   "file_extension": ".py",
   "mimetype": "text/x-python",
   "name": "python",
   "nbconvert_exporter": "python",
   "pygments_lexer": "ipython3",
   "version": "3.6.5"
  }
 },
 "nbformat": 4,
 "nbformat_minor": 2
}
